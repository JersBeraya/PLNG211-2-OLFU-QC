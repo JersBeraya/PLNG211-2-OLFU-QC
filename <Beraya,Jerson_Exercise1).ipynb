{
  "nbformat": 4,
  "nbformat_minor": 0,
  "metadata": {
    "colab": {
      "provenance": [],
      "authorship_tag": "ABX9TyPSj6KgDM+gEFqMascKeEcW",
      "include_colab_link": true
    },
    "kernelspec": {
      "name": "python3",
      "display_name": "Python 3"
    },
    "language_info": {
      "name": "python"
    }
  },
  "cells": [
    {
      "cell_type": "markdown",
      "metadata": {
        "id": "view-in-github",
        "colab_type": "text"
      },
      "source": [
        "<a href=\"https://colab.research.google.com/github/JersBeraya/PLNG211-2-OLFU-QC/blob/main/%3CBeraya%2CJerson_Exercise1).ipynb\" target=\"_parent\"><img src=\"https://colab.research.google.com/assets/colab-badge.svg\" alt=\"Open In Colab\"/></a>"
      ]
    },
    {
      "cell_type": "code",
      "execution_count": null,
      "metadata": {
        "id": "ZooFAHUCqVeA"
      },
      "outputs": [],
      "source": []
    },
    {
      "cell_type": "code",
      "source": [
        "numbers = [26,49,98,87,62,75]\n",
        "#sum of odd numbers\n",
        "# 49 + 87 + 75 = 211\n",
        "\n",
        "odd = sum([num for num in numbers if(num%2!=0)])\n",
        "print(odd)"
      ],
      "metadata": {
        "colab": {
          "base_uri": "https://localhost:8080/"
        },
        "id": "BB9EuTq7jTgS",
        "outputId": "1dc64f41-8fbb-4543-f99c-6abe6c8810f8"
      },
      "execution_count": 1,
      "outputs": [
        {
          "output_type": "stream",
          "name": "stdout",
          "text": [
            "211\n"
          ]
        }
      ]
    }
  ]
}